{
 "cells": [
  {
   "cell_type": "markdown",
   "metadata": {},
   "source": [
    "## EDA & State-wise Complaints Visualization\n",
    "\n",
    "- **Author**: TextMining Team 1\n",
    "\n",
    "- **Date of Creation**: November 30, 2023\n",
    "\n",
    "- **Python Vresion**: 3.8.18\n",
    "\n",
    "- **Purpose and Overview**:  \n",
    "  This code performs an Exploratory Data Analysis (EDA) and visualizes customer complaint data by state. The EDA part of the code includes analyzing the structure of the data, identifying missing values, understanding the distribution of complaints across different products and issues, and examining trends over time.  \n",
    "  The visualization part of the code provides an interactive map that highlights the characteristics of each state, including the volume and nature of complaints, facilitating an overview of regional variations in the data.\n",
    "\n",
    "- **Input Data Description**:  \n",
    "  Uses data loaded from 'complaints.csv'. This dataset contains complaints, issues, products, and states\n",
    "\n",
    "- **Main Functions**:  \n",
    "  - Conducts an Exploratory Data Analysis (EDA) on the customer complaint data.\n",
    "  - Generates an interactive map highlighting state characteristics.\n",
    "\n",
    "- **Additional Information**:  \n",
    "  - Installation of Plotly is required. (`pip install plotly`)\n",
    "  - States are represented by their abbreviations. e.g., California -> CA\n"
   ]
  },
  {
   "cell_type": "code",
   "execution_count": 51,
   "metadata": {},
   "outputs": [],
   "source": [
    "# import libraries\n",
    "import pandas as pd\n",
    "import matplotlib.pyplot as plt\n",
    "import seaborn as sns\n",
    "import warnings\n",
    "warnings.filterwarnings(\"ignore\") # ignore warning"
   ]
  },
  {
   "cell_type": "code",
   "execution_count": 59,
   "metadata": {},
   "outputs": [
    {
     "name": "stdout",
     "output_type": "stream",
     "text": [
      "(27536, 18)\n"
     ]
    },
    {
     "data": {
      "text/html": [
       "<div>\n",
       "<style scoped>\n",
       "    .dataframe tbody tr th:only-of-type {\n",
       "        vertical-align: middle;\n",
       "    }\n",
       "\n",
       "    .dataframe tbody tr th {\n",
       "        vertical-align: top;\n",
       "    }\n",
       "\n",
       "    .dataframe thead th {\n",
       "        text-align: right;\n",
       "    }\n",
       "</style>\n",
       "<table border=\"1\" class=\"dataframe\">\n",
       "  <thead>\n",
       "    <tr style=\"text-align: right;\">\n",
       "      <th></th>\n",
       "      <th>Date received</th>\n",
       "      <th>Product</th>\n",
       "      <th>Sub-product</th>\n",
       "      <th>Issue</th>\n",
       "      <th>Sub-issue</th>\n",
       "      <th>Consumer complaint narrative</th>\n",
       "      <th>Company public response</th>\n",
       "      <th>Company</th>\n",
       "      <th>State</th>\n",
       "      <th>ZIP code</th>\n",
       "      <th>Tags</th>\n",
       "      <th>Consumer consent provided?</th>\n",
       "      <th>Submitted via</th>\n",
       "      <th>Date sent to company</th>\n",
       "      <th>Company response to consumer</th>\n",
       "      <th>Timely response?</th>\n",
       "      <th>Consumer disputed?</th>\n",
       "      <th>Complaint ID</th>\n",
       "    </tr>\n",
       "  </thead>\n",
       "  <tbody>\n",
       "    <tr>\n",
       "      <th>0</th>\n",
       "      <td>10/15/18</td>\n",
       "      <td>Mortgage</td>\n",
       "      <td>Conventional home mortgage</td>\n",
       "      <td>Trouble during payment process</td>\n",
       "      <td>NaN</td>\n",
       "      <td>Dear Agent of the CFPB, or to whom it may conc...</td>\n",
       "      <td>Company has responded to the consumer and the ...</td>\n",
       "      <td>BANK OF AMERICA, NATIONAL ASSOCIATION</td>\n",
       "      <td>MO</td>\n",
       "      <td>631XX</td>\n",
       "      <td>NaN</td>\n",
       "      <td>Consent provided</td>\n",
       "      <td>Web</td>\n",
       "      <td>10/15/18</td>\n",
       "      <td>Closed with explanation</td>\n",
       "      <td>Yes</td>\n",
       "      <td>NaN</td>\n",
       "      <td>3046643</td>\n",
       "    </tr>\n",
       "    <tr>\n",
       "      <th>1</th>\n",
       "      <td>05/03/18</td>\n",
       "      <td>Mortgage</td>\n",
       "      <td>FHA mortgage</td>\n",
       "      <td>Struggling to pay mortgage</td>\n",
       "      <td>NaN</td>\n",
       "      <td>My home was foreclosed on XX/XX/XXXX without m...</td>\n",
       "      <td>Company has responded to the consumer and the ...</td>\n",
       "      <td>BANK OF AMERICA, NATIONAL ASSOCIATION</td>\n",
       "      <td>CT</td>\n",
       "      <td>06457</td>\n",
       "      <td>NaN</td>\n",
       "      <td>Consent provided</td>\n",
       "      <td>Web</td>\n",
       "      <td>05/03/18</td>\n",
       "      <td>Closed with explanation</td>\n",
       "      <td>Yes</td>\n",
       "      <td>NaN</td>\n",
       "      <td>2894334</td>\n",
       "    </tr>\n",
       "    <tr>\n",
       "      <th>2</th>\n",
       "      <td>10/15/18</td>\n",
       "      <td>Credit card or prepaid card</td>\n",
       "      <td>General-purpose credit card or charge card</td>\n",
       "      <td>Problem with a purchase shown on your statement</td>\n",
       "      <td>Credit card company isn't resolving a dispute ...</td>\n",
       "      <td>I am writing this letter to file a complaint a...</td>\n",
       "      <td>Company has responded to the consumer and the ...</td>\n",
       "      <td>BANK OF AMERICA, NATIONAL ASSOCIATION</td>\n",
       "      <td>FL</td>\n",
       "      <td>33027</td>\n",
       "      <td>Servicemember</td>\n",
       "      <td>Consent provided</td>\n",
       "      <td>Web</td>\n",
       "      <td>10/15/18</td>\n",
       "      <td>Closed with monetary relief</td>\n",
       "      <td>Yes</td>\n",
       "      <td>NaN</td>\n",
       "      <td>3046798</td>\n",
       "    </tr>\n",
       "    <tr>\n",
       "      <th>3</th>\n",
       "      <td>07/13/23</td>\n",
       "      <td>Mortgage</td>\n",
       "      <td>Conventional home mortgage</td>\n",
       "      <td>Trouble during payment process</td>\n",
       "      <td>NaN</td>\n",
       "      <td>Ive been fighting with Bank of America for ove...</td>\n",
       "      <td>Company has responded to the consumer and the ...</td>\n",
       "      <td>BANK OF AMERICA, NATIONAL ASSOCIATION</td>\n",
       "      <td>GA</td>\n",
       "      <td>XXXXX</td>\n",
       "      <td>NaN</td>\n",
       "      <td>Consent provided</td>\n",
       "      <td>Web</td>\n",
       "      <td>07/13/23</td>\n",
       "      <td>Closed with monetary relief</td>\n",
       "      <td>Yes</td>\n",
       "      <td>NaN</td>\n",
       "      <td>7247589</td>\n",
       "    </tr>\n",
       "    <tr>\n",
       "      <th>4</th>\n",
       "      <td>04/16/18</td>\n",
       "      <td>Checking or savings account</td>\n",
       "      <td>Checking account</td>\n",
       "      <td>Problem caused by your funds being low</td>\n",
       "      <td>Overdrafts and overdraft fees</td>\n",
       "      <td>I have a business checking account at Bank 0f ...</td>\n",
       "      <td>Company has responded to the consumer and the ...</td>\n",
       "      <td>BANK OF AMERICA, NATIONAL ASSOCIATION</td>\n",
       "      <td>NJ</td>\n",
       "      <td>07076</td>\n",
       "      <td>NaN</td>\n",
       "      <td>Consent provided</td>\n",
       "      <td>Web</td>\n",
       "      <td>04/16/18</td>\n",
       "      <td>Closed with monetary relief</td>\n",
       "      <td>Yes</td>\n",
       "      <td>NaN</td>\n",
       "      <td>2876698</td>\n",
       "    </tr>\n",
       "  </tbody>\n",
       "</table>\n",
       "</div>"
      ],
      "text/plain": [
       "  Date received                      Product  \\\n",
       "0      10/15/18                     Mortgage   \n",
       "1      05/03/18                     Mortgage   \n",
       "2      10/15/18  Credit card or prepaid card   \n",
       "3      07/13/23                     Mortgage   \n",
       "4      04/16/18  Checking or savings account   \n",
       "\n",
       "                                  Sub-product  \\\n",
       "0                  Conventional home mortgage   \n",
       "1                                FHA mortgage   \n",
       "2  General-purpose credit card or charge card   \n",
       "3                  Conventional home mortgage   \n",
       "4                            Checking account   \n",
       "\n",
       "                                             Issue  \\\n",
       "0                   Trouble during payment process   \n",
       "1                       Struggling to pay mortgage   \n",
       "2  Problem with a purchase shown on your statement   \n",
       "3                   Trouble during payment process   \n",
       "4           Problem caused by your funds being low   \n",
       "\n",
       "                                           Sub-issue  \\\n",
       "0                                                NaN   \n",
       "1                                                NaN   \n",
       "2  Credit card company isn't resolving a dispute ...   \n",
       "3                                                NaN   \n",
       "4                      Overdrafts and overdraft fees   \n",
       "\n",
       "                        Consumer complaint narrative  \\\n",
       "0  Dear Agent of the CFPB, or to whom it may conc...   \n",
       "1  My home was foreclosed on XX/XX/XXXX without m...   \n",
       "2  I am writing this letter to file a complaint a...   \n",
       "3  Ive been fighting with Bank of America for ove...   \n",
       "4  I have a business checking account at Bank 0f ...   \n",
       "\n",
       "                             Company public response  \\\n",
       "0  Company has responded to the consumer and the ...   \n",
       "1  Company has responded to the consumer and the ...   \n",
       "2  Company has responded to the consumer and the ...   \n",
       "3  Company has responded to the consumer and the ...   \n",
       "4  Company has responded to the consumer and the ...   \n",
       "\n",
       "                                 Company State ZIP code           Tags  \\\n",
       "0  BANK OF AMERICA, NATIONAL ASSOCIATION    MO    631XX            NaN   \n",
       "1  BANK OF AMERICA, NATIONAL ASSOCIATION    CT    06457            NaN   \n",
       "2  BANK OF AMERICA, NATIONAL ASSOCIATION    FL    33027  Servicemember   \n",
       "3  BANK OF AMERICA, NATIONAL ASSOCIATION    GA    XXXXX            NaN   \n",
       "4  BANK OF AMERICA, NATIONAL ASSOCIATION    NJ    07076            NaN   \n",
       "\n",
       "  Consumer consent provided? Submitted via Date sent to company  \\\n",
       "0           Consent provided           Web             10/15/18   \n",
       "1           Consent provided           Web             05/03/18   \n",
       "2           Consent provided           Web             10/15/18   \n",
       "3           Consent provided           Web             07/13/23   \n",
       "4           Consent provided           Web             04/16/18   \n",
       "\n",
       "  Company response to consumer Timely response?  Consumer disputed?  \\\n",
       "0      Closed with explanation              Yes                 NaN   \n",
       "1      Closed with explanation              Yes                 NaN   \n",
       "2  Closed with monetary relief              Yes                 NaN   \n",
       "3  Closed with monetary relief              Yes                 NaN   \n",
       "4  Closed with monetary relief              Yes                 NaN   \n",
       "\n",
       "   Complaint ID  \n",
       "0       3046643  \n",
       "1       2894334  \n",
       "2       3046798  \n",
       "3       7247589  \n",
       "4       2876698  "
      ]
     },
     "execution_count": 59,
     "metadata": {},
     "output_type": "execute_result"
    }
   ],
   "source": [
    "# read complaints data\n",
    "file_path = '../Data/'\n",
    "\n",
    "df_origin = pd.read_csv(f'{file_path}complaints.csv') # read csv file\n",
    "print(df_origin.shape)\n",
    "df_origin.head()"
   ]
  },
  {
   "cell_type": "code",
   "execution_count": 60,
   "metadata": {},
   "outputs": [],
   "source": [
    "# select needed columns\n",
    "df = df_origin[['Date received', 'Product', 'Sub-product', 'Issue', 'Sub-issue', 'Consumer complaint narrative', 'State']]\n",
    "\n",
    "# change name of the columns\n",
    "df.rename(columns={'Date received':'Date',\n",
    "                   'Consumer complaint narrative':'Complaint'}, inplace=True)\n",
    "\n",
    "# change Date column to date type\n",
    "df['Date'] = pd.to_datetime(df['Date'])"
   ]
  },
  {
   "cell_type": "code",
   "execution_count": 61,
   "metadata": {},
   "outputs": [],
   "source": [
    "# create 'Label' columns that is a superclass of product\n",
    "# create a parent category mapping dictionary\n",
    "category_map = {\n",
    "    'Mortgage': 'Loan', \n",
    "    'Vehicle loan or lease': 'Loan', \n",
    "    'Payday loan, title loan, or personal loan': 'Loan', \n",
    "    'Student loan': 'Loan', \n",
    "    'Payday loan, title loan, personal loan, or advance loan': 'Loan',\n",
    "    'Credit card or prepaid card': 'Card&Account', \n",
    "    'Credit card': 'Card&Account', \n",
    "    'Prepaid card': 'Card&Account', \n",
    "    'Checking or savings account': 'Card&Account', \n",
    "    'Money transfer, virtual currency, or money service': 'Card&Account',\n",
    "    'Credit reporting, credit repair services, or other personal consumer reports': 'Credit_Management', \n",
    "    'Credit reporting or other personal consumer reports': 'Credit_Management', \n",
    "    'Debt or credit management': 'Credit_Management', \n",
    "    'Debt collection': 'Credit_Management'\n",
    "}\n",
    "\n",
    "# map values from the 'Product' column to the 'Label' column\n",
    "df['Label'] = df['Product'].map(category_map)"
   ]
  },
  {
   "cell_type": "code",
   "execution_count": 62,
   "metadata": {},
   "outputs": [],
   "source": [
    "# exporting data\n",
    "#df.to_csv(f'{file_path}compalints_add_label.csv', index=False)"
   ]
  },
  {
   "cell_type": "code",
   "execution_count": 50,
   "metadata": {},
   "outputs": [
    {
     "name": "stdout",
     "output_type": "stream",
     "text": [
      "---------------------------------------------------------------------------------------\n",
      "Number of complaints per product: \n",
      "Product\n",
      "Checking or savings account                                                     10167\n",
      "Credit card                                                                       158\n",
      "Credit card or prepaid card                                                      7533\n",
      "Credit reporting or other personal consumer reports                               151\n",
      "Credit reporting, credit repair services, or other personal consumer reports     3468\n",
      "Debt collection                                                                  1285\n",
      "Debt or credit management                                                           2\n",
      "Money transfer, virtual currency, or money service                               2065\n",
      "Mortgage                                                                         2201\n",
      "Payday loan, title loan, or personal loan                                         118\n",
      "Payday loan, title loan, personal loan, or advance loan                             1\n",
      "Prepaid card                                                                       74\n",
      "Student loan                                                                       15\n",
      "Vehicle loan or lease                                                             298\n",
      "dtype: int64\n",
      "---------------------------------------------------------------------------------------\n",
      "Number of complaints per Label: \n",
      "Label\n",
      "Card&Account         19997\n",
      "Credit_Management     4906\n",
      "Loan                  2633\n",
      "dtype: int64\n",
      "---------------------------------------------------------------------------------------\n"
     ]
    }
   ],
   "source": [
    "print(\"---------------------------------------------------------------------------------------\")\n",
    "print(f\"Number of complaints per product: \\n{df.groupby('Product').size()}\")\n",
    "print(\"---------------------------------------------------------------------------------------\")\n",
    "print(f\"Number of complaints per Label: \\n{df.groupby('Label').size()}\")\n",
    "print(\"---------------------------------------------------------------------------------------\")"
   ]
  },
  {
   "cell_type": "markdown",
   "metadata": {},
   "source": [
    "### EDA 1) Basic statistical information (e.g., number of missing values, data types, etc.)"
   ]
  },
  {
   "cell_type": "code",
   "execution_count": 10,
   "metadata": {},
   "outputs": [
    {
     "name": "stdout",
     "output_type": "stream",
     "text": [
      "----------------------\n",
      "unique values: \n",
      "Date            2116\n",
      "Product           14\n",
      "Sub-product       48\n",
      "Issue             75\n",
      "Sub-issue        169\n",
      "Complaint      27213\n",
      "State             56\n",
      "dtype: int64\n",
      "----------------------\n",
      "missing values: \n",
      "Date              0\n",
      "Product           0\n",
      "Sub-product       5\n",
      "Issue             0\n",
      "Sub-issue      4797\n",
      "Complaint         0\n",
      "State           201\n",
      "dtype: int64\n",
      "----------------------\n"
     ]
    },
    {
     "data": {
      "text/html": [
       "<div>\n",
       "<style scoped>\n",
       "    .dataframe tbody tr th:only-of-type {\n",
       "        vertical-align: middle;\n",
       "    }\n",
       "\n",
       "    .dataframe tbody tr th {\n",
       "        vertical-align: top;\n",
       "    }\n",
       "\n",
       "    .dataframe thead th {\n",
       "        text-align: right;\n",
       "    }\n",
       "</style>\n",
       "<table border=\"1\" class=\"dataframe\">\n",
       "  <thead>\n",
       "    <tr style=\"text-align: right;\">\n",
       "      <th></th>\n",
       "      <th>Date</th>\n",
       "      <th>Product</th>\n",
       "      <th>Sub-product</th>\n",
       "      <th>Issue</th>\n",
       "      <th>Sub-issue</th>\n",
       "      <th>Complaint</th>\n",
       "      <th>State</th>\n",
       "    </tr>\n",
       "  </thead>\n",
       "  <tbody>\n",
       "    <tr>\n",
       "      <th>count</th>\n",
       "      <td>27536</td>\n",
       "      <td>27536</td>\n",
       "      <td>27531</td>\n",
       "      <td>27536</td>\n",
       "      <td>22739</td>\n",
       "      <td>27536</td>\n",
       "      <td>27335</td>\n",
       "    </tr>\n",
       "    <tr>\n",
       "      <th>unique</th>\n",
       "      <td>NaN</td>\n",
       "      <td>14</td>\n",
       "      <td>48</td>\n",
       "      <td>75</td>\n",
       "      <td>169</td>\n",
       "      <td>27213</td>\n",
       "      <td>56</td>\n",
       "    </tr>\n",
       "    <tr>\n",
       "      <th>top</th>\n",
       "      <td>NaN</td>\n",
       "      <td>Checking or savings account</td>\n",
       "      <td>Checking account</td>\n",
       "      <td>Managing an account</td>\n",
       "      <td>Deposits and withdrawals</td>\n",
       "      <td>The existence of a derogatory rating on my acc...</td>\n",
       "      <td>CA</td>\n",
       "    </tr>\n",
       "  </tbody>\n",
       "</table>\n",
       "</div>"
      ],
      "text/plain": [
       "         Date                      Product       Sub-product  \\\n",
       "count   27536                        27536             27531   \n",
       "unique    NaN                           14                48   \n",
       "top       NaN  Checking or savings account  Checking account   \n",
       "\n",
       "                      Issue                 Sub-issue  \\\n",
       "count                 27536                     22739   \n",
       "unique                   75                       169   \n",
       "top     Managing an account  Deposits and withdrawals   \n",
       "\n",
       "                                                Complaint  State  \n",
       "count                                               27536  27335  \n",
       "unique                                              27213     56  \n",
       "top     The existence of a derogatory rating on my acc...     CA  "
      ]
     },
     "execution_count": 10,
     "metadata": {},
     "output_type": "execute_result"
    }
   ],
   "source": [
    "# basic statistics and data types\n",
    "basic_stats = df.describe(include='all')\n",
    "df_types = df.dtypes\n",
    "\n",
    "# checking for missing values\n",
    "missing_values = df.isnull().sum()\n",
    "\n",
    "# unique values in each column\n",
    "unique_values = df.nunique()\n",
    "\n",
    "print(\"----------------------\")\n",
    "print(f\"unique values: \\n{unique_values}\")\n",
    "print(\"----------------------\")\n",
    "print(f\"missing values: \\n{missing_values}\")\n",
    "print(\"----------------------\")\n",
    "basic_stats.iloc[:3]"
   ]
  },
  {
   "cell_type": "markdown",
   "metadata": {},
   "source": [
    "### EDA 2) Analyze complaint trends over time"
   ]
  },
  {
   "cell_type": "code",
   "execution_count": 17,
   "metadata": {},
   "outputs": [
    {
     "data": {
      "image/png": "[encoded data removed]",
      "text/plain": [
       "<Figure size 1200x600 with 1 Axes>"
      ]
     },
     "metadata": {},
     "output_type": "display_data"
    }
   ],
   "source": [
    "# complaints over time\n",
    "complaints_over_time = df.groupby(df['Date'].dt.to_period('M')).size()\n",
    "\n",
    "# plot for number of complaints over time\n",
    "plt.figure(figsize=(12, 6))\n",
    "complaints_over_time.plot(kind='line')\n",
    "plt.title('Number of Complaints Over Time')\n",
    "plt.ylabel('Number of Complaints')\n",
    "plt.xlabel('Date')\n",
    "plt.show()\n"
   ]
  },
  {
   "cell_type": "markdown",
   "metadata": {},
   "source": [
    "### EDA 3) Top 5 most complained about products"
   ]
  },
  {
   "cell_type": "code",
   "execution_count": 18,
   "metadata": {},
   "outputs": [
    {
     "data": {
      "image/png": "[encoded data removed]",
      "text/plain": [
       "<Figure size 1000x600 with 1 Axes>"
      ]
     },
     "metadata": {},
     "output_type": "display_data"
    }
   ],
   "source": [
    "# top 5 most frequent products\n",
    "top_products = df['Product'].value_counts().head(5)\n",
    "\n",
    "# plot for top 5 products with most complaints\n",
    "plt.figure(figsize=(10, 6))\n",
    "sns.barplot(y=top_products.index, x=top_products.values, palette='viridis', orient='h')\n",
    "plt.title('Top 5 Products with Most Complaints')\n",
    "plt.xlabel('Number of Complaints')\n",
    "plt.show()\n"
   ]
  },
  {
   "cell_type": "markdown",
   "metadata": {},
   "source": [
    "### EDA 4) Top 5 most complained about issues"
   ]
  },
  {
   "cell_type": "code",
   "execution_count": 19,
   "metadata": {},
   "outputs": [
    {
     "data": {
      "image/png": "[encoded data removed]",
      "text/plain": [
       "<Figure size 1000x600 with 1 Axes>"
      ]
     },
     "metadata": {},
     "output_type": "display_data"
    }
   ],
   "source": [
    "# top 5 most frequent issues\n",
    "top_issues = df['Issue'].value_counts().head(5)\n",
    "\n",
    "# plot for top 5 issues in complaints\n",
    "plt.figure(figsize=(10, 6))\n",
    "sns.barplot(x=top_issues.values, y=top_issues.index, palette='viridis', orient='h')\n",
    "plt.title('Top 5 Issues in Complaints')\n",
    "plt.xlabel('Number of Complaints')\n",
    "plt.show()\n"
   ]
  },
  {
   "cell_type": "markdown",
   "metadata": {},
   "source": [
    "### EDA 5) Top 5 states with most complaints"
   ]
  },
  {
   "cell_type": "code",
   "execution_count": 12,
   "metadata": {},
   "outputs": [
    {
     "data": {
      "image/png": "[encoded data removed]",
      "text/plain": [
       "<Figure size 1000x600 with 1 Axes>"
      ]
     },
     "metadata": {},
     "output_type": "display_data"
    }
   ],
   "source": [
    "# top 5 states with most complaints\n",
    "top_states = df['State'].value_counts().head(5)\n",
    "\n",
    "# plot for top 5 states with most complaints\n",
    "plt.figure(figsize=(10, 6))\n",
    "sns.barplot(x=top_states.index, y=top_states.values, palette='viridis', zorder=2)\n",
    "plt.title('Top 5 States with Most Complaints')\n",
    "plt.xlabel('States')\n",
    "plt.ylabel('Number of Complaints')\n",
    "plt.grid(axis='y', zorder=1)\n",
    "plt.show()\n"
   ]
  },
  {
   "cell_type": "markdown",
   "metadata": {},
   "source": [
    "### Visualization by States"
   ]
  },
  {
   "cell_type": "code",
   "execution_count": 11,
   "metadata": {},
   "outputs": [
    {
     "data": {
      "application/vnd.plotly.v1+json": {
       "config": {
        "plotlyServerURL": "https://plot.ly"
       },
       "data": [
        {
         "colorbar": {
          "title": {
           "text": "Number of Complaints"
          }
         },
         "colorscale": [
          [
           0,
           "rgb(255,245,240)"
          ],
          [
           0.125,
           "rgb(254,224,210)"
          ],
          [
           0.25,
           "rgb(252,187,161)"
          ],
          [
           0.375,
           "rgb(252,146,114)"
          ],
          [
           0.5,
           "rgb(251,106,74)"
          ],
          [
           0.625,
           "rgb(239,59,44)"
          ],
          [
           0.75,
           "rgb(203,24,29)"
          ],
          [
           0.875,
           "rgb(165,15,21)"
          ],
          [
           1,
           "rgb(103,0,13)"
          ]
         ],
         "locationmode": "USA-states",
         "locations": [
          "CA",
          "FL",
          "TX",
          "NY",
          "GA",
          "NJ",
          "MA",
          "IL",
          "VA",
          "NC",
          "MD",
          "PA",
          "WA",
          "AZ",
          "MI",
          "NV",
          "SC",
          "CT",
          "TN",
          "OH",
          "MO",
          "OR",
          "CO",
          "MN",
          "DC",
          "IN",
          "AL",
          "OK",
          "WI",
          "KS",
          "LA",
          "NM",
          "AR",
          "DE",
          "RI",
          "UT",
          "IA",
          "NH",
          "KY",
          "MS",
          "ME",
          "ID",
          "AK",
          "HI",
          "NE",
          "WV",
          "MT",
          "PR",
          "VT",
          "AE",
          "ND",
          "SD",
          "AP",
          "WY",
          "UNITED STATES MINOR OUTLYING ISLANDS",
          "FM"
         ],
         "text": [
          "Managing an account",
          "Managing an account",
          "Managing an account",
          "Managing an account",
          "Managing an account",
          "Managing an account",
          "Managing an account",
          "Managing an account",
          "Managing an account",
          "Managing an account",
          "Managing an account",
          "Managing an account",
          "Managing an account",
          "Managing an account",
          "Opening an account",
          "Managing an account",
          "Managing an account",
          "Managing an account",
          "Managing an account",
          "Managing an account",
          "Managing an account",
          "Managing an account",
          "Managing an account",
          "Managing an account",
          "Managing an account",
          "Managing an account",
          "Managing an account",
          "Managing an account",
          "Problem with a purchase shown on your statement",
          "Managing an account",
          "Getting a credit card",
          "Managing an account",
          "Managing an account",
          "Managing an account",
          "Managing an account",
          "Managing an account",
          "Managing an account",
          "Managing an account",
          "Managing an account",
          "Managing an account",
          "Managing an account",
          "Closing an account",
          "Problem with a purchase shown on your statement",
          "Problem with a purchase shown on your statement",
          "Trouble during payment process",
          "Opening an account",
          "Managing an account",
          "Incorrect information on your report",
          "Managing an account",
          "Managing an account",
          "Fraud or scam",
          "Problem with a purchase shown on your statement",
          "Getting a credit card",
          "Closing an account",
          "Struggling to pay your bill",
          "Took or threatened to take negative or legal action"
         ],
         "type": "choropleth",
         "z": [
          6201,
          2723,
          2182,
          1840,
          1322,
          1151,
          966,
          960,
          776,
          769,
          766,
          714,
          639,
          627,
          606,
          571,
          391,
          385,
          328,
          307,
          302,
          246,
          243,
          186,
          169,
          148,
          131,
          127,
          125,
          116,
          115,
          110,
          108,
          106,
          94,
          89,
          74,
          74,
          62,
          61,
          57,
          53,
          52,
          52,
          40,
          36,
          29,
          23,
          22,
          20,
          10,
          10,
          9,
          6,
          4,
          2
         ]
        }
       ],
       "layout": {
        "geo": {
         "scope": "usa"
        },
        "template": {
         "data": {
          "bar": [
           {
            "error_x": {
             "color": "#2a3f5f"
            },
            "error_y": {
             "color": "#2a3f5f"
            },
            "marker": {
             "line": {
              "color": "#E5ECF6",
              "width": 0.5
             },
             "pattern": {
              "fillmode": "overlay",
              "size": 10,
              "solidity": 0.2
             }
            },
            "type": "bar"
           }
          ],
          "barpolar": [
           {
            "marker": {
             "line": {
              "color": "#E5ECF6",
              "width": 0.5
             },
             "pattern": {
              "fillmode": "overlay",
              "size": 10,
              "solidity": 0.2
             }
            },
            "type": "barpolar"
           }
          ],
          "carpet": [
           {
            "aaxis": {
             "endlinecolor": "#2a3f5f",
             "gridcolor": "white",
             "linecolor": "white",
             "minorgridcolor": "white",
             "startlinecolor": "#2a3f5f"
            },
            "baxis": {
             "endlinecolor": "#2a3f5f",
             "gridcolor": "white",
             "linecolor": "white",
             "minorgridcolor": "white",
             "startlinecolor": "#2a3f5f"
            },
            "type": "carpet"
           }
          ],
          "choropleth": [
           {
            "colorbar": {
             "outlinewidth": 0,
             "ticks": ""
            },
            "type": "choropleth"
           }
          ],
          "contour": [
           {
            "colorbar": {
             "outlinewidth": 0,
             "ticks": ""
            },
            "colorscale": [
             [
              0,
              "#0d0887"
             ],
             [
              0.1111111111111111,
              "#46039f"
             ],
             [
              0.2222222222222222,
              "#7201a8"
             ],
             [
              0.3333333333333333,
              "#9c179e"
             ],
             [
              0.4444444444444444,
              "#bd3786"
             ],
             [
              0.5555555555555556,
              "#d8576b"
             ],
             [
              0.6666666666666666,
              "#ed7953"
             ],
             [
              0.7777777777777778,
              "#fb9f3a"
             ],
             [
              0.8888888888888888,
              "#fdca26"
             ],
             [
              1,
              "#f0f921"
             ]
            ],
            "type": "contour"
           }
          ],
          "contourcarpet": [
           {
            "colorbar": {
             "outlinewidth": 0,
             "ticks": ""
            },
            "type": "contourcarpet"
           }
          ],
          "heatmap": [
           {
            "colorbar": {
             "outlinewidth": 0,
             "ticks": ""
            },
            "colorscale": [
             [
              0,
              "#0d0887"
             ],
             [
              0.1111111111111111,
              "#46039f"
             ],
             [
              0.2222222222222222,
              "#7201a8"
             ],
             [
              0.3333333333333333,
              "#9c179e"
             ],
             [
              0.4444444444444444,
              "#bd3786"
             ],
             [
              0.5555555555555556,
              "#d8576b"
             ],
             [
              0.6666666666666666,
              "#ed7953"
             ],
             [
              0.7777777777777778,
              "#fb9f3a"
             ],
             [
              0.8888888888888888,
              "#fdca26"
             ],
             [
              1,
              "#f0f921"
             ]
            ],
            "type": "heatmap"
           }
          ],
          "heatmapgl": [
           {
            "colorbar": {
             "outlinewidth": 0,
             "ticks": ""
            },
            "colorscale": [
             [
              0,
              "#0d0887"
             ],
             [
              0.1111111111111111,
              "#46039f"
             ],
             [
              0.2222222222222222,
              "#7201a8"
             ],
             [
              0.3333333333333333,
              "#9c179e"
             ],
             [
              0.4444444444444444,
              "#bd3786"
             ],
             [
              0.5555555555555556,
              "#d8576b"
             ],
             [
              0.6666666666666666,
              "#ed7953"
             ],
             [
              0.7777777777777778,
              "#fb9f3a"
             ],
             [
              0.8888888888888888,
              "#fdca26"
             ],
             [
              1,
              "#f0f921"
             ]
            ],
            "type": "heatmapgl"
           }
          ],
          "histogram": [
           {
            "marker": {
             "pattern": {
              "fillmode": "overlay",
              "size": 10,
              "solidity": 0.2
             }
            },
            "type": "histogram"
           }
          ],
          "histogram2d": [
           {
            "colorbar": {
             "outlinewidth": 0,
             "ticks": ""
            },
            "colorscale": [
             [
              0,
              "#0d0887"
             ],
             [
              0.1111111111111111,
              "#46039f"
             ],
             [
              0.2222222222222222,
              "#7201a8"
             ],
             [
              0.3333333333333333,
              "#9c179e"
             ],
             [
              0.4444444444444444,
              "#bd3786"
             ],
             [
              0.5555555555555556,
              "#d8576b"
             ],
             [
              0.6666666666666666,
              "#ed7953"
             ],
             [
              0.7777777777777778,
              "#fb9f3a"
             ],
             [
              0.8888888888888888,
              "#fdca26"
             ],
             [
              1,
              "#f0f921"
             ]
            ],
            "type": "histogram2d"
           }
          ],
          "histogram2dcontour": [
           {
            "colorbar": {
             "outlinewidth": 0,
             "ticks": ""
            },
            "colorscale": [
             [
              0,
              "#0d0887"
             ],
             [
              0.1111111111111111,
              "#46039f"
             ],
             [
              0.2222222222222222,
              "#7201a8"
             ],
             [
              0.3333333333333333,
              "#9c179e"
             ],
             [
              0.4444444444444444,
              "#bd3786"
             ],
             [
              0.5555555555555556,
              "#d8576b"
             ],
             [
              0.6666666666666666,
              "#ed7953"
             ],
             [
              0.7777777777777778,
              "#fb9f3a"
             ],
             [
              0.8888888888888888,
              "#fdca26"
             ],
             [
              1,
              "#f0f921"
             ]
            ],
            "type": "histogram2dcontour"
           }
          ],
          "mesh3d": [
           {
            "colorbar": {
             "outlinewidth": 0,
             "ticks": ""
            },
            "type": "mesh3d"
           }
          ],
          "parcoords": [
           {
            "line": {
             "colorbar": {
              "outlinewidth": 0,
              "ticks": ""
             }
            },
            "type": "parcoords"
           }
          ],
          "pie": [
           {
            "automargin": true,
            "type": "pie"
           }
          ],
          "scatter": [
           {
            "fillpattern": {
             "fillmode": "overlay",
             "size": 10,
             "solidity": 0.2
            },
            "type": "scatter"
           }
          ],
          "scatter3d": [
           {
            "line": {
             "colorbar": {
              "outlinewidth": 0,
              "ticks": ""
             }
            },
            "marker": {
             "colorbar": {
              "outlinewidth": 0,
              "ticks": ""
             }
            },
            "type": "scatter3d"
           }
          ],
          "scattercarpet": [
           {
            "marker": {
             "colorbar": {
              "outlinewidth": 0,
              "ticks": ""
             }
            },
            "type": "scattercarpet"
           }
          ],
          "scattergeo": [
           {
            "marker": {
             "colorbar": {
              "outlinewidth": 0,
              "ticks": ""
             }
            },
            "type": "scattergeo"
           }
          ],
          "scattergl": [
           {
            "marker": {
             "colorbar": {
              "outlinewidth": 0,
              "ticks": ""
             }
            },
            "type": "scattergl"
           }
          ],
          "scattermapbox": [
           {
            "marker": {
             "colorbar": {
              "outlinewidth": 0,
              "ticks": ""
             }
            },
            "type": "scattermapbox"
           }
          ],
          "scatterpolar": [
           {
            "marker": {
             "colorbar": {
              "outlinewidth": 0,
              "ticks": ""
             }
            },
            "type": "scatterpolar"
           }
          ],
          "scatterpolargl": [
           {
            "marker": {
             "colorbar": {
              "outlinewidth": 0,
              "ticks": ""
             }
            },
            "type": "scatterpolargl"
           }
          ],
          "scatterternary": [
           {
            "marker": {
             "colorbar": {
              "outlinewidth": 0,
              "ticks": ""
             }
            },
            "type": "scatterternary"
           }
          ],
          "surface": [
           {
            "colorbar": {
             "outlinewidth": 0,
             "ticks": ""
            },
            "colorscale": [
             [
              0,
              "#0d0887"
             ],
             [
              0.1111111111111111,
              "#46039f"
             ],
             [
              0.2222222222222222,
              "#7201a8"
             ],
             [
              0.3333333333333333,
              "#9c179e"
             ],
             [
              0.4444444444444444,
              "#bd3786"
             ],
             [
              0.5555555555555556,
              "#d8576b"
             ],
             [
              0.6666666666666666,
              "#ed7953"
             ],
             [
              0.7777777777777778,
              "#fb9f3a"
             ],
             [
              0.8888888888888888,
              "#fdca26"
             ],
             [
              1,
              "#f0f921"
             ]
            ],
            "type": "surface"
           }
          ],
          "table": [
           {
            "cells": {
             "fill": {
              "color": "#EBF0F8"
             },
             "line": {
              "color": "white"
             }
            },
            "header": {
             "fill": {
              "color": "#C8D4E3"
             },
             "line": {
              "color": "white"
             }
            },
            "type": "table"
           }
          ]
         },
         "layout": {
          "annotationdefaults": {
           "arrowcolor": "#2a3f5f",
           "arrowhead": 0,
           "arrowwidth": 1
          },
          "autotypenumbers": "strict",
          "coloraxis": {
           "colorbar": {
            "outlinewidth": 0,
            "ticks": ""
           }
          },
          "colorscale": {
           "diverging": [
            [
             0,
             "#8e0152"
            ],
            [
             0.1,
             "#c51b7d"
            ],
            [
             0.2,
             "#de77ae"
            ],
            [
             0.3,
             "#f1b6da"
            ],
            [
             0.4,
             "#fde0ef"
            ],
            [
             0.5,
             "#f7f7f7"
            ],
            [
             0.6,
             "#e6f5d0"
            ],
            [
             0.7,
             "#b8e186"
            ],
            [
             0.8,
             "#7fbc41"
            ],
            [
             0.9,
             "#4d9221"
            ],
            [
             1,
             "#276419"
            ]
           ],
           "sequential": [
            [
             0,
             "#0d0887"
            ],
            [
             0.1111111111111111,
             "#46039f"
            ],
            [
             0.2222222222222222,
             "#7201a8"
            ],
            [
             0.3333333333333333,
             "#9c179e"
            ],
            [
             0.4444444444444444,
             "#bd3786"
            ],
            [
             0.5555555555555556,
             "#d8576b"
            ],
            [
             0.6666666666666666,
             "#ed7953"
            ],
            [
             0.7777777777777778,
             "#fb9f3a"
            ],
            [
             0.8888888888888888,
             "#fdca26"
            ],
            [
             1,
             "#f0f921"
            ]
           ],
           "sequentialminus": [
            [
             0,
             "#0d0887"
            ],
            [
             0.1111111111111111,
             "#46039f"
            ],
            [
             0.2222222222222222,
             "#7201a8"
            ],
            [
             0.3333333333333333,
             "#9c179e"
            ],
            [
             0.4444444444444444,
             "#bd3786"
            ],
            [
             0.5555555555555556,
             "#d8576b"
            ],
            [
             0.6666666666666666,
             "#ed7953"
            ],
            [
             0.7777777777777778,
             "#fb9f3a"
            ],
            [
             0.8888888888888888,
             "#fdca26"
            ],
            [
             1,
             "#f0f921"
            ]
           ]
          },
          "colorway": [
           "#636efa",
           "#EF553B",
           "#00cc96",
           "#ab63fa",
           "#FFA15A",
           "#19d3f3",
           "#FF6692",
           "#B6E880",
           "#FF97FF",
           "#FECB52"
          ],
          "font": {
           "color": "#2a3f5f"
          },
          "geo": {
           "bgcolor": "white",
           "lakecolor": "white",
           "landcolor": "#E5ECF6",
           "showlakes": true,
           "showland": true,
           "subunitcolor": "white"
          },
          "hoverlabel": {
           "align": "left"
          },
          "hovermode": "closest",
          "mapbox": {
           "style": "light"
          },
          "paper_bgcolor": "white",
          "plot_bgcolor": "#E5ECF6",
          "polar": {
           "angularaxis": {
            "gridcolor": "white",
            "linecolor": "white",
            "ticks": ""
           },
           "bgcolor": "#E5ECF6",
           "radialaxis": {
            "gridcolor": "white",
            "linecolor": "white",
            "ticks": ""
           }
          },
          "scene": {
           "xaxis": {
            "backgroundcolor": "#E5ECF6",
            "gridcolor": "white",
            "gridwidth": 2,
            "linecolor": "white",
            "showbackground": true,
            "ticks": "",
            "zerolinecolor": "white"
           },
           "yaxis": {
            "backgroundcolor": "#E5ECF6",
            "gridcolor": "white",
            "gridwidth": 2,
            "linecolor": "white",
            "showbackground": true,
            "ticks": "",
            "zerolinecolor": "white"
           },
           "zaxis": {
            "backgroundcolor": "#E5ECF6",
            "gridcolor": "white",
            "gridwidth": 2,
            "linecolor": "white",
            "showbackground": true,
            "ticks": "",
            "zerolinecolor": "white"
           }
          },
          "shapedefaults": {
           "line": {
            "color": "#2a3f5f"
           }
          },
          "ternary": {
           "aaxis": {
            "gridcolor": "white",
            "linecolor": "white",
            "ticks": ""
           },
           "baxis": {
            "gridcolor": "white",
            "linecolor": "white",
            "ticks": ""
           },
           "bgcolor": "#E5ECF6",
           "caxis": {
            "gridcolor": "white",
            "linecolor": "white",
            "ticks": ""
           }
          },
          "title": {
           "x": 0.05
          },
          "xaxis": {
           "automargin": true,
           "gridcolor": "white",
           "linecolor": "white",
           "ticks": "",
           "title": {
            "standoff": 15
           },
           "zerolinecolor": "white",
           "zerolinewidth": 2
          },
          "yaxis": {
           "automargin": true,
           "gridcolor": "white",
           "linecolor": "white",
           "ticks": "",
           "title": {
            "standoff": 15
           },
           "zerolinecolor": "white",
           "zerolinewidth": 2
          }
         }
        },
        "title": {
         "text": "Complaints by States"
        }
       }
      }
     },
     "metadata": {},
     "output_type": "display_data"
    }
   ],
   "source": [
    "import plotly.graph_objs as go\n",
    "\n",
    "# create number of complaints by each states\n",
    "state_complaints = df['State'].value_counts().reset_index()\n",
    "state_complaints.columns = ['State', 'Complaints']\n",
    "\n",
    "# find the most complained about issues in each state\n",
    "top_issues_by_state = df.groupby('State')['Issue'].agg(lambda x: x.value_counts().index[0])\n",
    "state_complaints = state_complaints.merge(top_issues_by_state, on='State', how='left')\n",
    "\n",
    "# create a Plotly map\n",
    "fig = go.Figure(data=go.Choropleth(\n",
    "    locations=state_complaints['State'], # State code or State name\n",
    "    z=state_complaints['Complaints'].astype(float), # number of complaints\n",
    "    text=state_complaints['Issue'], # text to display in the tooltip (most complained about issues per week)\n",
    "    locationmode='USA-states',\n",
    "    colorscale='Reds',\n",
    "    colorbar_title=\"Number of Complaints\",\n",
    "))\n",
    "\n",
    "\n",
    "fig.update_layout(\n",
    "    title_text='Complaints by States',\n",
    "    geo_scope='usa', # only the US map is visible\n",
    ")\n",
    "\n",
    "fig.show()\n"
   ]
  },
  {
   "cell_type": "code",
   "execution_count": null,
   "metadata": {},
   "outputs": [],
   "source": []
  }
 ],
 "metadata": {
  "kernelspec": {
   "display_name": "Python 3",
   "language": "python",
   "name": "python3"
  },
  "language_info": {
   "codemirror_mode": {
    "name": "ipython",
    "version": 3
   },
   "file_extension": ".py",
   "mimetype": "text/x-python",
   "name": "python",
   "nbconvert_exporter": "python",
   "pygments_lexer": "ipython3",
   "version": "3.8.18"
  }
 },
 "nbformat": 4,
 "nbformat_minor": 2
}
